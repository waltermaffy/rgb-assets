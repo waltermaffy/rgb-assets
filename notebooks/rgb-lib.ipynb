{
 "cells": [
  {
   "cell_type": "markdown",
   "id": "69c8e542-fd2d-4748-abe9-5fa12daca0bd",
   "metadata": {},
   "source": [
    "# rgb-lib issuance and transfer demo\n",
    "Example of asset issuance and transfer using [rgb-lib](https://github.com/RGB-Tools/rgb-lib) via its [Python bindings](https://github.com/RGB-Tools/rgb-lib-python)"
   ]
  },
  {
   "cell_type": "markdown",
   "id": "0573a717-fd7c-4403-8ef4-af23c45cd58c",
   "metadata": {},
   "source": [
    "### imports"
   ]
  },
  {
   "cell_type": "code",
   "execution_count": 1,
   "id": "de88b2d9-d3c7-428e-9d4b-787fa72ebd6c",
   "metadata": {},
   "outputs": [
    {
     "ename": "OSError",
     "evalue": "dlopen(/Users/walter/Library/Caches/pypoetry/virtualenvs/rgbassets-JE_iEHuL-py3.10/lib/python3.10/site-packages/rgb_lib/_rgb_lib/librgblibffi.dylib, 0x0006): tried: '/Users/walter/Library/Caches/pypoetry/virtualenvs/rgbassets-JE_iEHuL-py3.10/lib/python3.10/site-packages/rgb_lib/_rgb_lib/librgblibffi.dylib' (no such file), '/System/Volumes/Preboot/Cryptexes/OS/Users/walter/Library/Caches/pypoetry/virtualenvs/rgbassets-JE_iEHuL-py3.10/lib/python3.10/site-packages/rgb_lib/_rgb_lib/librgblibffi.dylib' (no such file), '/Users/walter/Library/Caches/pypoetry/virtualenvs/rgbassets-JE_iEHuL-py3.10/lib/python3.10/site-packages/rgb_lib/_rgb_lib/librgblibffi.dylib' (no such file)",
     "output_type": "error",
     "traceback": [
      "\u001b[0;31m---------------------------------------------------------------------------\u001b[0m",
      "\u001b[0;31mOSError\u001b[0m                                   Traceback (most recent call last)",
      "Cell \u001b[0;32mIn[1], line 9\u001b[0m\n\u001b[1;32m      6\u001b[0m \u001b[38;5;28;01mimport\u001b[39;00m \u001b[38;5;21;01mqrcode\u001b[39;00m\n\u001b[1;32m      7\u001b[0m \u001b[38;5;28;01mfrom\u001b[39;00m \u001b[38;5;21;01mIPython\u001b[39;00m\u001b[38;5;21;01m.\u001b[39;00m\u001b[38;5;21;01mdisplay\u001b[39;00m \u001b[38;5;28;01mimport\u001b[39;00m Image, display\n\u001b[0;32m----> 9\u001b[0m \u001b[38;5;28;01mimport\u001b[39;00m \u001b[38;5;21;01mrgb_lib\u001b[39;00m\n",
      "File \u001b[0;32m~/Library/Caches/pypoetry/virtualenvs/rgbassets-JE_iEHuL-py3.10/lib/python3.10/site-packages/rgb_lib/__init__.py:3\u001b[0m\n\u001b[1;32m      1\u001b[0m \u001b[38;5;124;03m\"\"\"RGB Lib package.\"\"\"\u001b[39;00m\n\u001b[0;32m----> 3\u001b[0m \u001b[38;5;28;01mfrom\u001b[39;00m \u001b[38;5;21;01m.\u001b[39;00m\u001b[38;5;21;01m_rgb_lib\u001b[39;00m\u001b[38;5;21;01m.\u001b[39;00m\u001b[38;5;21;01mrgb_lib\u001b[39;00m \u001b[38;5;28;01mimport\u001b[39;00m \u001b[38;5;241m*\u001b[39m\n",
      "File \u001b[0;32m~/Library/Caches/pypoetry/virtualenvs/rgbassets-JE_iEHuL-py3.10/lib/python3.10/site-packages/rgb_lib/_rgb_lib/rgb_lib.py:346\u001b[0m\n\u001b[1;32m    341\u001b[0m     \u001b[38;5;28;01mreturn\u001b[39;00m ctypes\u001b[38;5;241m.\u001b[39mcdll\u001b[38;5;241m.\u001b[39mLoadLibrary(path)\n\u001b[1;32m    343\u001b[0m \u001b[38;5;66;03m# A ctypes library to expose the extern-C FFI definitions.\u001b[39;00m\n\u001b[1;32m    344\u001b[0m \u001b[38;5;66;03m# This is an implementation detail which will be called internally by the public API.\u001b[39;00m\n\u001b[0;32m--> 346\u001b[0m _UniFFILib \u001b[38;5;241m=\u001b[39m \u001b[43mloadIndirect\u001b[49m\u001b[43m(\u001b[49m\u001b[43m)\u001b[49m\n\u001b[1;32m    347\u001b[0m _UniFFILib\u001b[38;5;241m.\u001b[39mffi_rgb_lib_57e3_Wallet_object_free\u001b[38;5;241m.\u001b[39margtypes \u001b[38;5;241m=\u001b[39m (\n\u001b[1;32m    348\u001b[0m     ctypes\u001b[38;5;241m.\u001b[39mc_void_p,\n\u001b[1;32m    349\u001b[0m     ctypes\u001b[38;5;241m.\u001b[39mPOINTER(RustCallStatus),\n\u001b[1;32m    350\u001b[0m )\n\u001b[1;32m    351\u001b[0m _UniFFILib\u001b[38;5;241m.\u001b[39mffi_rgb_lib_57e3_Wallet_object_free\u001b[38;5;241m.\u001b[39mrestype \u001b[38;5;241m=\u001b[39m \u001b[38;5;28;01mNone\u001b[39;00m\n",
      "File \u001b[0;32m~/Library/Caches/pypoetry/virtualenvs/rgbassets-JE_iEHuL-py3.10/lib/python3.10/site-packages/rgb_lib/_rgb_lib/rgb_lib.py:341\u001b[0m, in \u001b[0;36mloadIndirect\u001b[0;34m()\u001b[0m\n\u001b[1;32m    339\u001b[0m lib \u001b[38;5;241m=\u001b[39m libname\u001b[38;5;241m.\u001b[39mformat(\u001b[38;5;124m\"\u001b[39m\u001b[38;5;124mrgblibffi\u001b[39m\u001b[38;5;124m\"\u001b[39m)\n\u001b[1;32m    340\u001b[0m path \u001b[38;5;241m=\u001b[39m \u001b[38;5;28mstr\u001b[39m(Path(\u001b[38;5;18m__file__\u001b[39m)\u001b[38;5;241m.\u001b[39mparent \u001b[38;5;241m/\u001b[39m lib)\n\u001b[0;32m--> 341\u001b[0m \u001b[38;5;28;01mreturn\u001b[39;00m \u001b[43mctypes\u001b[49m\u001b[38;5;241;43m.\u001b[39;49m\u001b[43mcdll\u001b[49m\u001b[38;5;241;43m.\u001b[39;49m\u001b[43mLoadLibrary\u001b[49m\u001b[43m(\u001b[49m\u001b[43mpath\u001b[49m\u001b[43m)\u001b[49m\n",
      "File \u001b[0;32m/opt/homebrew/Cellar/python@3.10/3.10.9/Frameworks/Python.framework/Versions/3.10/lib/python3.10/ctypes/__init__.py:452\u001b[0m, in \u001b[0;36mLibraryLoader.LoadLibrary\u001b[0;34m(self, name)\u001b[0m\n\u001b[1;32m    451\u001b[0m \u001b[38;5;28;01mdef\u001b[39;00m \u001b[38;5;21mLoadLibrary\u001b[39m(\u001b[38;5;28mself\u001b[39m, name):\n\u001b[0;32m--> 452\u001b[0m     \u001b[38;5;28;01mreturn\u001b[39;00m \u001b[38;5;28;43mself\u001b[39;49m\u001b[38;5;241;43m.\u001b[39;49m\u001b[43m_dlltype\u001b[49m\u001b[43m(\u001b[49m\u001b[43mname\u001b[49m\u001b[43m)\u001b[49m\n",
      "File \u001b[0;32m/opt/homebrew/Cellar/python@3.10/3.10.9/Frameworks/Python.framework/Versions/3.10/lib/python3.10/ctypes/__init__.py:374\u001b[0m, in \u001b[0;36mCDLL.__init__\u001b[0;34m(self, name, mode, handle, use_errno, use_last_error, winmode)\u001b[0m\n\u001b[1;32m    371\u001b[0m \u001b[38;5;28mself\u001b[39m\u001b[38;5;241m.\u001b[39m_FuncPtr \u001b[38;5;241m=\u001b[39m _FuncPtr\n\u001b[1;32m    373\u001b[0m \u001b[38;5;28;01mif\u001b[39;00m handle \u001b[38;5;129;01mis\u001b[39;00m \u001b[38;5;28;01mNone\u001b[39;00m:\n\u001b[0;32m--> 374\u001b[0m     \u001b[38;5;28mself\u001b[39m\u001b[38;5;241m.\u001b[39m_handle \u001b[38;5;241m=\u001b[39m \u001b[43m_dlopen\u001b[49m\u001b[43m(\u001b[49m\u001b[38;5;28;43mself\u001b[39;49m\u001b[38;5;241;43m.\u001b[39;49m\u001b[43m_name\u001b[49m\u001b[43m,\u001b[49m\u001b[43m \u001b[49m\u001b[43mmode\u001b[49m\u001b[43m)\u001b[49m\n\u001b[1;32m    375\u001b[0m \u001b[38;5;28;01melse\u001b[39;00m:\n\u001b[1;32m    376\u001b[0m     \u001b[38;5;28mself\u001b[39m\u001b[38;5;241m.\u001b[39m_handle \u001b[38;5;241m=\u001b[39m handle\n",
      "\u001b[0;31mOSError\u001b[0m: dlopen(/Users/walter/Library/Caches/pypoetry/virtualenvs/rgbassets-JE_iEHuL-py3.10/lib/python3.10/site-packages/rgb_lib/_rgb_lib/librgblibffi.dylib, 0x0006): tried: '/Users/walter/Library/Caches/pypoetry/virtualenvs/rgbassets-JE_iEHuL-py3.10/lib/python3.10/site-packages/rgb_lib/_rgb_lib/librgblibffi.dylib' (no such file), '/System/Volumes/Preboot/Cryptexes/OS/Users/walter/Library/Caches/pypoetry/virtualenvs/rgbassets-JE_iEHuL-py3.10/lib/python3.10/site-packages/rgb_lib/_rgb_lib/librgblibffi.dylib' (no such file), '/Users/walter/Library/Caches/pypoetry/virtualenvs/rgbassets-JE_iEHuL-py3.10/lib/python3.10/site-packages/rgb_lib/_rgb_lib/librgblibffi.dylib' (no such file)"
     ]
    }
   ],
   "source": [
    "import os\n",
    "import shutil\n",
    "\n",
    "#import magic\n",
    "import matplotlib.pyplot as plot\n",
    "import qrcode\n",
    "from IPython.display import Image, display\n",
    "\n",
    "import rgb_lib"
   ]
  },
  {
   "cell_type": "markdown",
   "id": "5da66be4-71db-492e-98fc-e3f62d768e59",
   "metadata": {},
   "source": [
    "### common values"
   ]
  },
  {
   "cell_type": "code",
   "execution_count": null,
   "id": "a2ed87c5-b222-4eff-98a8-e9de12d21346",
   "metadata": {},
   "outputs": [],
   "source": [
    "electrum_url = 'tcp://electrs:50001'\n",
    "proxy_url = 'https://proxy.rgbtools.org'\n",
    "bitcoin_network = rgb_lib.BitcoinNetwork.REGTEST"
   ]
  },
  {
   "cell_type": "markdown",
   "id": "a1ea396f-61d4-47f6-84bd-3cd77d3d71d1",
   "metadata": {},
   "source": [
    "---\n",
    "# receiver\n",
    "---"
   ]
  },
  {
   "cell_type": "markdown",
   "id": "2d9a4dda-c26d-4909-bbc0-f55d549609b7",
   "metadata": {},
   "source": [
    "### generate a new wallet"
   ]
  },
  {
   "cell_type": "code",
   "execution_count": null,
   "id": "6979c62f-9ecd-4555-a2e8-8b0a13a90489",
   "metadata": {},
   "outputs": [],
   "source": [
    "recv_keys = rgb_lib.generate_keys(bitcoin_network)\n",
    "print('receiver wallet keys:')\n",
    "print(' - mnemonic:', recv_keys.mnemonic)\n",
    "print(' - xpub:', recv_keys.xpub)"
   ]
  },
  {
   "cell_type": "markdown",
   "id": "1337434c-6b0d-42cb-8b24-6c9794514ec8",
   "metadata": {},
   "source": [
    "### initialize the wallet"
   ]
  },
  {
   "cell_type": "code",
   "execution_count": null,
   "id": "0a1aa3e2-12eb-4ef9-a227-0eaea3fc75ee",
   "metadata": {},
   "outputs": [],
   "source": [
    "recv_data_dir = './data/recv_wallet'\n",
    "recv_mnemonic = recv_keys.mnemonic\n",
    "recv_xpub = recv_keys.xpub\n",
    "\n",
    "if not os.path.exists(recv_data_dir):\n",
    "    os.makedirs(recv_data_dir)\n",
    "\n",
    "recv_wallet_data = rgb_lib.WalletData(\n",
    "        recv_data_dir,\n",
    "        bitcoin_network,\n",
    "        rgb_lib.DatabaseType.SQLITE,\n",
    "        recv_xpub,\n",
    "        recv_mnemonic,\n",
    ")\n",
    "\n",
    "recv_wallet = rgb_lib.Wallet(recv_wallet_data)\n",
    "recv_online = recv_wallet.go_online(False, electrum_url, proxy_url)\n",
    "print(f'wallet initialized, fingerprint: {recv_keys.xpub_fingerprint}')"
   ]
  },
  {
   "cell_type": "markdown",
   "id": "e957d882-0243-419f-a304-e6f96d8a5f88",
   "metadata": {},
   "source": [
    "### get a Bitcoin address to add some funds\n",
    "fund the address with some regtest bitcoins\n",
    "```shell\n",
    "./services.sh fund <address>\n",
    "```"
   ]
  },
  {
   "cell_type": "markdown",
   "id": "732d07ca-2073-4fac-a6da-ddcf111cd0f0",
   "metadata": {},
   "source": [
    "### create UTXOs to hold RGB allocations"
   ]
  },
  {
   "cell_type": "code",
   "execution_count": null,
   "id": "fbf2d401-3c4d-4638-a9f1-51f4bb16de2a",
   "metadata": {},
   "outputs": [],
   "source": [
    "recv_address = recv_wallet.get_address()\n",
    "\n",
    "recv_image = qrcode.make(recv_address)\n",
    "plot.imshow(recv_image,cmap='gray')\n",
    "print(recv_address)"
   ]
  },
  {
   "cell_type": "code",
   "execution_count": null,
   "id": "9870c8ca-4e29-47ed-817c-e7479888593b",
   "metadata": {},
   "outputs": [],
   "source": [
    "recv_wallet.create_utxos(recv_online, True, 5)"
   ]
  },
  {
   "cell_type": "markdown",
   "id": "a2efd916",
   "metadata": {},
   "source": []
  },
  {
   "cell_type": "markdown",
   "id": "2dcb6363-dce1-4aea-afc1-33340fc3c7ea",
   "metadata": {},
   "source": [
    "### check wallet unspents"
   ]
  },
  {
   "cell_type": "code",
   "execution_count": null,
   "id": "5a4c30ec",
   "metadata": {},
   "outputs": [],
   "source": []
  },
  {
   "cell_type": "code",
   "execution_count": null,
   "id": "1984bdc7-5af9-4842-96a3-14a1d9eb8045",
   "metadata": {},
   "outputs": [],
   "source": [
    "recv_wallet.refresh(recv_online, None)\n",
    "recv_unspents = recv_wallet.list_unspents(settled_only=False)\n",
    "for unspent in recv_unspents:\n",
    "    print(unspent.utxo)\n",
    "    for allocation in unspent.rgb_allocations:\n",
    "        print(f'\\t- {allocation}')"
   ]
  },
  {
   "cell_type": "markdown",
   "id": "58f99988-449b-48fe-a9eb-d60a2d6e2c05",
   "metadata": {},
   "source": [
    "### prepare blinded UTXOs to receive assets"
   ]
  },
  {
   "cell_type": "code",
   "execution_count": null,
   "id": "cd35b247-3bbd-491a-a2d6-4be2b3f36b6a",
   "metadata": {},
   "outputs": [],
   "source": [
    "recv_blind_data_1 = recv_wallet.blind(None, None)\n",
    "recv_blind_data_2 = recv_wallet.blind(None, None)\n",
    "print(f'blinded UTXO 1: {recv_blind_data_1.blinded_utxo}')\n",
    "print(f'blinded UTXO 2: {recv_blind_data_2.blinded_utxo}')"
   ]
  },
  {
   "cell_type": "markdown",
   "id": "70bcdbcd-0378-4c15-be18-1fca9ddb5288",
   "metadata": {},
   "source": [
    "---\n",
    "# sender\n",
    "---"
   ]
  },
  {
   "cell_type": "markdown",
   "id": "a4a3c8d2-25f2-49fa-9c4f-750ea0faea33",
   "metadata": {},
   "source": [
    "### generate a new wallet\n",
    "each time `rgb_lib.generate_keys()` is called a new mnemonic and xpub are created, giving a brand new wallet"
   ]
  },
  {
   "cell_type": "code",
   "execution_count": null,
   "id": "41a2ca37-bda5-407e-ab10-2ad39df80bfc",
   "metadata": {},
   "outputs": [],
   "source": [
    "send_keys = rgb_lib.generate_keys(bitcoin_network)\n",
    "print('new wallet keys:')\n",
    "print(' - mnemonic:', send_keys.mnemonic)\n",
    "print(' - xpub:', send_keys.xpub)"
   ]
  },
  {
   "cell_type": "markdown",
   "id": "0d9057de-0423-4f48-807c-155cc390865a",
   "metadata": {},
   "source": [
    "### initialize the wallet\n",
    "copy the generated mnemonic and xpub and set them to their respective variables below,\n",
    "this way the bitcoin wallet won't change unexpectedly between runs"
   ]
  },
  {
   "cell_type": "code",
   "execution_count": null,
   "id": "3c238380-62db-4e8a-a322-e86d99c372e0",
   "metadata": {},
   "outputs": [],
   "source": [
    "send_data_dir = './data/send_wallet'\n",
    "send_mnemonic = send_keys.mnemonic\n",
    "send_xpub = send_keys.xpub\n",
    "\n",
    "if not os.path.exists(send_data_dir):\n",
    "    os.makedirs(send_data_dir)\n",
    "\n",
    "send_wallet_data = rgb_lib.WalletData(\n",
    "        send_data_dir,\n",
    "        bitcoin_network,\n",
    "        rgb_lib.DatabaseType.SQLITE,\n",
    "        send_xpub,\n",
    "        send_mnemonic,\n",
    ")\n",
    "\n",
    "send_wallet = rgb_lib.Wallet(send_wallet_data)\n",
    "send_online = send_wallet.go_online(False, electrum_url, proxy_url)\n",
    "print(f'wallet initialized, fingerprint: {send_keys.xpub_fingerprint}')"
   ]
  },
  {
   "cell_type": "markdown",
   "id": "cf019f80-7532-4f69-b25b-8b7c68e7a7bd",
   "metadata": {},
   "source": [
    "### get a Bitcoin address to add some funds\n",
    "fund the address with some regtest bitcoins\n",
    "```shell\n",
    "./services.sh fund <address>\n",
    "```"
   ]
  },
  {
   "cell_type": "code",
   "execution_count": null,
   "id": "87fb1e73-8bfa-41c0-91a4-953f36327874",
   "metadata": {},
   "outputs": [],
   "source": [
    "send_address = send_wallet.get_address()\n",
    "print(send_address)\n",
    "\n",
    "send_image = qrcode.make(send_address)\n",
    "plot.imshow(send_image,cmap='gray')"
   ]
  },
  {
   "cell_type": "markdown",
   "id": "5f9ed276-4220-4f1c-a811-64b4d25f4f75",
   "metadata": {},
   "source": [
    "### create UTXOs to hold RGB allocations"
   ]
  },
  {
   "cell_type": "code",
   "execution_count": null,
   "id": "e11041af-2d62-4308-ab93-41b56d2c7615",
   "metadata": {},
   "outputs": [],
   "source": [
    "send_wallet.create_utxos(send_online, True, 5)"
   ]
  },
  {
   "cell_type": "markdown",
   "id": "bf863c92-86d3-4367-a158-4f0686f4adba",
   "metadata": {},
   "source": [
    "### check wallet unspents"
   ]
  },
  {
   "cell_type": "code",
   "execution_count": null,
   "id": "f3b05ce3-d439-497b-8d72-d9b2538b0123",
   "metadata": {},
   "outputs": [],
   "source": [
    "send_wallet.refresh(send_online, None)\n",
    "send_unspents = send_wallet.list_unspents(settled_only=False)\n",
    "for unspent in send_unspents:\n",
    "    print(unspent.utxo)\n",
    "    for allocation in unspent.rgb_allocations:\n",
    "        print(f'\\t- {allocation}')"
   ]
  },
  {
   "cell_type": "markdown",
   "id": "c1a2a61c-f542-4cfd-983e-183a59952e4e",
   "metadata": {},
   "source": [
    "### issue an RGB20 asset"
   ]
  },
  {
   "cell_type": "code",
   "execution_count": null,
   "id": "8c5e7ddf-47ea-4311-9f3e-37683b9368d0",
   "metadata": {},
   "outputs": [],
   "source": [
    "# asset data\n",
    "name = 'Jupyter Fungible Token'\n",
    "precision = 0\n",
    "amounts = [1000]\n",
    "ticker = 'JFT'\n",
    "\n",
    "# issue the asset\n",
    "rgb20_asset = send_wallet.issue_asset_rgb20(send_online, ticker, name, precision, amounts)\n",
    "print(f'issued asset with ID: {rgb20_asset.asset_id}')"
   ]
  },
  {
   "cell_type": "markdown",
   "id": "735c8295-7c2d-419d-b294-0b1415b89378",
   "metadata": {},
   "source": [
    "### issue an RGB21 asset\n",
    "place an PNG image in the demo directory, named `sample.png`"
   ]
  },
  {
   "cell_type": "code",
   "execution_count": null,
   "id": "3d821203-a4a9-4e49-bb44-7e6404c28d74",
   "metadata": {},
   "outputs": [],
   "source": [
    "# asset data\n",
    "name = 'JupyNFT'\n",
    "precision = 0\n",
    "amounts = [1]\n",
    "description = 'Jupyter Collectible'\n",
    "parent_id = None\n",
    "file_path = 'sample.png'\n",
    "\n",
    "if not os.path.exists(file_path):\n",
    "    raise RuntimeError(f'missing image file: {file_path}')\n",
    "\n",
    "# issue the asset\n",
    "rgb21_asset = send_wallet.issue_asset_rgb21(\n",
    "    send_online, name, description, precision, amounts, parent_id, file_path)\n",
    "print(f'issued asset with ID: {rgb21_asset.asset_id}')"
   ]
  },
  {
   "cell_type": "markdown",
   "id": "14d6dba9-88c4-43b7-b461-644c0ce3b93e",
   "metadata": {},
   "source": [
    "### list wallet assets"
   ]
  },
  {
   "cell_type": "code",
   "execution_count": null,
   "id": "56d1a3d4-39da-4a92-8c83-ff5888659fbf",
   "metadata": {},
   "outputs": [],
   "source": [
    "assets = send_wallet.list_assets(filter_asset_types=[])\n",
    "\n",
    "print('RGB20 assets:')\n",
    "for asset in assets.rgb20:\n",
    "    print(f'- {asset}')\n",
    "    \n",
    "print('\\nRGB21 assets:')\n",
    "for asset in assets.rgb21:\n",
    "    print(f'- {asset}')"
   ]
  },
  {
   "cell_type": "markdown",
   "id": "6e508f7a-c2d2-451d-a2d8-6c424e737dda",
   "metadata": {},
   "source": [
    "### send some assets to the receiver's blinded UTXO\n",
    "- create PSBT and RGB transfer\n",
    "- anchor RGB transfer to PSBT\n",
    "- post consignment to proxy server"
   ]
  },
  {
   "cell_type": "markdown",
   "id": "7636d918-fce8-412d-835c-4c387c7d82b9",
   "metadata": {},
   "source": [
    "#### RGB20"
   ]
  },
  {
   "cell_type": "code",
   "execution_count": null,
   "id": "aab692c1-17d1-41cb-837f-9b4effc70e70",
   "metadata": {
    "tags": []
   },
   "outputs": [],
   "source": [
    "amount_rgb20 = 10\n",
    "\n",
    "recipient_map_rgb20 = {\n",
    "    rgb20_asset.asset_id: [\n",
    "        rgb_lib.Recipient(recv_blind_data_1.blinded_utxo, amount_rgb20),\n",
    "    ]\n",
    "}\n",
    "txid = send_wallet.send(send_online, recipient_map_rgb20, False)\n",
    "\n",
    "print(f'RGB20 txid: {txid}')"
   ]
  },
  {
   "cell_type": "markdown",
   "id": "adb28568-3e97-4c1d-a4de-e0f3ce43e535",
   "metadata": {},
   "source": [
    "#### RGB21"
   ]
  },
  {
   "cell_type": "code",
   "execution_count": null,
   "id": "bc11b03f-139c-45f0-b8fa-d0b42f9aac5e",
   "metadata": {},
   "outputs": [],
   "source": [
    "amount_rgb21 = 1\n",
    "\n",
    "recipient_map_rgb21 = {\n",
    "    rgb21_asset.asset_id: [\n",
    "        rgb_lib.Recipient(recv_blind_data_2.blinded_utxo, amount_rgb21),\n",
    "    ]\n",
    "}\n",
    "txid = send_wallet.send(send_online, recipient_map_rgb21, False)\n",
    "\n",
    "print(f'RGB21 txid: {txid}')"
   ]
  },
  {
   "cell_type": "markdown",
   "id": "f60841de-fe6a-444a-88a0-8f68164b4184",
   "metadata": {},
   "source": [
    "### list asset transfers"
   ]
  },
  {
   "cell_type": "code",
   "execution_count": null,
   "id": "f570ae73-5d56-410c-9952-d7fc6cdf75b2",
   "metadata": {},
   "outputs": [],
   "source": [
    "print('RGB20 asset transfers:')\n",
    "send_transfers = send_wallet.list_transfers(rgb20_asset.asset_id)\n",
    "for transfer in send_transfers:\n",
    "    print(f'- {transfer}')\n",
    "    \n",
    "print('\\nRGB21 asset transfers:')\n",
    "send_transfers = send_wallet.list_transfers(rgb21_asset.asset_id)\n",
    "for transfer in send_transfers:\n",
    "    print(f'- {transfer}')"
   ]
  },
  {
   "cell_type": "markdown",
   "id": "aa5639c7-7f6d-423c-986d-2efdd8037793",
   "metadata": {},
   "source": [
    "---\n",
    "# receiver\n",
    "---"
   ]
  },
  {
   "cell_type": "markdown",
   "id": "4ddf9be2-77aa-4ae1-b9af-477b33423c91",
   "metadata": {},
   "source": [
    "### refresh transfers\n",
    "- check pending transfers for incoming consignments\n",
    "- get the consignment from the proxy server and validate it\n",
    "- ACK the transfer on the proxy server"
   ]
  },
  {
   "cell_type": "code",
   "execution_count": null,
   "id": "e697d0b5-f0eb-4da6-8688-65a3c1746d3f",
   "metadata": {},
   "outputs": [],
   "source": [
    "recv_wallet.refresh(recv_online, None)"
   ]
  },
  {
   "cell_type": "markdown",
   "id": "ef7bd96a-26ce-4739-869f-f4b2518e480c",
   "metadata": {},
   "source": [
    "### list asset transfers"
   ]
  },
  {
   "cell_type": "code",
   "execution_count": null,
   "id": "b5bb4135-4b3b-4199-8697-dfa47bc2dda5",
   "metadata": {},
   "outputs": [],
   "source": [
    "print('RGB20 asset transfers:')\n",
    "recv_transfers = recv_wallet.list_transfers(rgb20_asset.asset_id)\n",
    "for transfer in recv_transfers:\n",
    "    print(f'- {transfer}')\n",
    "\n",
    "print('\\nRGB21 asset transfers:')\n",
    "recv_transfers = recv_wallet.list_transfers(rgb21_asset.asset_id)\n",
    "for transfer in recv_transfers:\n",
    "    print(f'- {transfer}')"
   ]
  },
  {
   "cell_type": "markdown",
   "id": "c00ae065-9254-4a9b-b8de-a2b5a90448c1",
   "metadata": {},
   "source": [
    "---\n",
    "# sender\n",
    "---"
   ]
  },
  {
   "cell_type": "markdown",
   "id": "fea56c93-3755-4a05-ad32-7c047e6eff9e",
   "metadata": {},
   "source": [
    "### refresh transfers\n",
    "- check pending transfers for ACKs\n",
    "- broadcast transaction for ACKed transfers"
   ]
  },
  {
   "cell_type": "code",
   "execution_count": null,
   "id": "932ee880-456b-43cd-a56a-d784c1e0ef81",
   "metadata": {},
   "outputs": [],
   "source": [
    "send_wallet.refresh(send_online, None)"
   ]
  },
  {
   "cell_type": "markdown",
   "id": "c2357702-d127-4c3e-955b-a1909e7c6e45",
   "metadata": {},
   "source": [
    "### list asset transfers"
   ]
  },
  {
   "cell_type": "code",
   "execution_count": null,
   "id": "dabe20d7-f2fd-462e-8dfd-32c12cdcfd95",
   "metadata": {},
   "outputs": [],
   "source": [
    "print('RGB20 asset transfers:')\n",
    "send_transfers = send_wallet.list_transfers(rgb20_asset.asset_id)\n",
    "for transfer in send_transfers:\n",
    "    print(f'- {transfer}')\n",
    "    \n",
    "print('\\nRGB21 asset transfers:')\n",
    "send_transfers = send_wallet.list_transfers(rgb21_asset.asset_id)\n",
    "for transfer in send_transfers:\n",
    "    print(f'- {transfer}')"
   ]
  },
  {
   "cell_type": "markdown",
   "id": "561197d5-f026-4b44-9c79-e8ff933fa304",
   "metadata": {},
   "source": [
    "---\n",
    "### transaction confirmation\n",
    "for the transfer to progress to a final state, mine a block\n",
    "```shell\n",
    "./services.sh mine 1\n",
    "```"
   ]
  },
  {
   "cell_type": "markdown",
   "id": "d83ce313-666d-4385-a646-e3cbfb6391d6",
   "metadata": {},
   "source": [
    "---\n",
    "# receiver\n",
    "---"
   ]
  },
  {
   "cell_type": "markdown",
   "id": "9cd0a3f9-c308-425a-a3b0-95bec30bddee",
   "metadata": {},
   "source": [
    "### refresh transfers\n",
    "- check pending transfers for transaction confirmations"
   ]
  },
  {
   "cell_type": "code",
   "execution_count": null,
   "id": "19c99c6e-6d71-4497-96fe-2b24732d4181",
   "metadata": {},
   "outputs": [],
   "source": [
    "recv_wallet.refresh(recv_online, None)"
   ]
  },
  {
   "cell_type": "markdown",
   "id": "558442c2-cac6-433d-a5b1-8b87b1858208",
   "metadata": {},
   "source": [
    "### list asset transfers"
   ]
  },
  {
   "cell_type": "code",
   "execution_count": null,
   "id": "57b50062-e750-4fbe-a35e-58e2b436eecc",
   "metadata": {},
   "outputs": [],
   "source": [
    "print('RGB20 asset transfers:')\n",
    "recv_transfers = recv_wallet.list_transfers(rgb20_asset.asset_id)\n",
    "for transfer in recv_transfers:\n",
    "    print(f'- {transfer}')\n",
    "    assert(transfer.status == rgb_lib.TransferStatus.SETTLED)\n",
    "\n",
    "\n",
    "print('\\nRGB21 asset transfers:')\n",
    "recv_transfers = recv_wallet.list_transfers(rgb21_asset.asset_id)\n",
    "for transfer in recv_transfers:\n",
    "    print(f'- {transfer}')\n",
    "    assert(transfer.status == rgb_lib.TransferStatus.SETTLED)"
   ]
  },
  {
   "cell_type": "code",
   "execution_count": null,
   "id": "7ce254f5-982a-40f4-8601-03e3bf0cf1e9",
   "metadata": {},
   "outputs": [],
   "source": [
    "recv_assets = recv_wallet.list_assets([])\n",
    "\n",
    "print('RGB20 assets:')\n",
    "for asset in recv_assets.rgb20:\n",
    "    print(f'- {asset}')\n",
    "    \n",
    "print('\\nRGB21 assets:')\n",
    "magic_mime = magic.Magic(mime=True)\n",
    "local_file_path = 'data/image.png'\n",
    "for asset in recv_assets.rgb21:\n",
    "    print(f'- {asset}')\n",
    "    data_paths = asset.data_paths\n",
    "    for media in data_paths:\n",
    "        media_mime = media.mime\n",
    "        media_path = media.file_path\n",
    "        file_mime = magic_mime.from_file(media_path)\n",
    "        assert(media_mime == 'image/png')\n",
    "        assert(file_mime == 'image/png')\n",
    "        shutil.copyfile(media_path, local_file_path) \n",
    "        display(Image(filename=local_file_path))"
   ]
  }
 ],
 "metadata": {
  "kernelspec": {
   "display_name": "Python 3 (ipykernel)",
   "language": "python",
   "name": "python3"
  },
  "language_info": {
   "codemirror_mode": {
    "name": "ipython",
    "version": 3
   },
   "file_extension": ".py",
   "mimetype": "text/x-python",
   "name": "python",
   "nbconvert_exporter": "python",
   "pygments_lexer": "ipython3",
   "version": "3.10.9"
  },
  "vscode": {
   "interpreter": {
    "hash": "43b746a0a7a1881d5885306c94fe5dac3eea5767980b8efbb70257e6aaae6523"
   }
  }
 },
 "nbformat": 4,
 "nbformat_minor": 5
}
